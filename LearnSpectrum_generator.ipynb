{
 "cells": [
  {
   "cell_type": "code",
   "execution_count": 1,
   "metadata": {
    "tags": []
   },
   "outputs": [],
   "source": [
    "import numpy as np\n",
    "from scipy import io\n",
    "import matplotlib.pyplot as plt\n",
    "\n",
    "\n",
    "taul = 25\n",
    "tau_up = 20\n",
    "dtaui = tau_up/taul\n",
    "taui = np.linspace(0.001, tau_up - dtaui - 0.001,num=taul)\n",
    "# taui = torch.linspace(0, tau_up-dtaui,steps=taul).to(device)\n",
    "\n",
    "\n",
    "omegal = 500\n",
    "omega_up = 20\n",
    "domegai = omega_up/omegal\n",
    "# omegai = torch.linspace(domegai ,omega_up,steps=omegal).to(device) #,requires_grad=True\n",
    "\n",
    "omegai = np.linspace(domegai ,omega_up ,num=omegal) #,requires_grad=True\n",
    "\n",
    "# input = omegai.reshape(-1)\n",
    "input = np.ones(1) # ,requires_grad=True\n",
    "\n",
    "import math\n",
    "def chi2(pre,obs):\n",
    "    out = (obs - pre)**2\n",
    "    out = out.sum()\n",
    "    return out #.mean()\n",
    "def par_chi2(pre,obs):\n",
    "    delta = obs.mean()\n",
    "    out = (obs - pre)/(obs - delta)**2\n",
    "    return out\n",
    "def D(taui,omegai,rhoi):\n",
    "    Kkl = np.zeros((taul,omegal))\n",
    "    for n in range(taul):\n",
    "        for m in range(omegal):\n",
    "            Kkl[n][m] = (omegai[m]/(omegai[m]**2 +taui[n]**2))/np.pi\n",
    "    \n",
    "    out = Kkl*rhoi*domegai\n",
    "    #  out = torch.exp(-taui*omegai)*rhoi*domegai\n",
    "    out = out.sum(1)\n",
    "    return out \n",
    "\n",
    "def eta(omega,Mres,delta):\n",
    "    out = 1 / (1 + np.exp((Mres**2 - omega**2)/omega/delta))\n",
    "    return out\n",
    "\n",
    "def rhores(omega,Mres,gamma):\n",
    "    out = 2*omega**2/((omega**2/Mres/gamma - Mres/gamma)**2 + 1)\n",
    "    return out\n",
    "\n",
    "def rhoconst(omega,Mconst):\n",
    "    out = 2.1*3*omega**2/8/np.pi*np.heaviside((omega**2 - 4*Mconst**2) , 1) * np.tanh(omega/4/T) *np.sqrt(abs(1- (2*Mconst/omega)**2))*(2 + (2*Mconst/omega)**2)\n",
    "    return out\n",
    "    \n",
    "# test input and oputput\n",
    "# params = list(nnrho.parameters())\n",
    "# print(len(params))\n",
    "# print(params[0].size())  # layer1's .weight"
   ]
  },
  {
   "cell_type": "code",
   "execution_count": 21,
   "metadata": {},
   "outputs": [
    {
     "data": {
      "image/png": "[encoded data removed]",
      "text/plain": [
       "<Figure size 432x288 with 1 Axes>"
      ]
     },
     "metadata": {
      "needs_background": "light"
     },
     "output_type": "display_data"
    },
    {
     "data": {
      "image/png": "[encoded data removed]",
      "text/plain": [
       "<Figure size 432x288 with 1 Axes>"
      ]
     },
     "metadata": {
      "needs_background": "light"
     },
     "output_type": "display_data"
    }
   ],
   "source": [
    "A,A2 = 1.0,1.0\n",
    "M2 = 5.0\n",
    "\n",
    "# index = 1 # single-peak BW \n",
    "# A = 1.0\n",
    "# M = 2.0\n",
    "# Gamma = 0.5\n",
    "# Gamma2 = 0\n",
    "\n",
    "# index = 2 # gaussian\n",
    "# M = 2.5\n",
    "# Gamma, Gamma2 = 0.4, 0\n",
    "\n",
    "# index = 3  # double-peak BW \n",
    "# M, M2 = 2.0, 5.0\n",
    "# Gamma, Gamma2 = 0.5, 0.5\n",
    "\n",
    "# index = 4  # double-peak gaussian\n",
    "# M,M2 = 2, 6\n",
    "# Gamma, Gamma2 = 0.4,0.4\n",
    "\n",
    "index = 5 # Lorenzian\n",
    "M = 4\n",
    "Gamma, Gamma2 = 0.3, 0\n",
    "\n",
    "\n",
    "\n",
    "baseline = (4 * A * Gamma * omegai/((M**2 + Gamma**2 - omegai**2)**2 + 4 * Gamma**2 * omegai**2))\n",
    "if Gamma2:\n",
    "    baseline += 4 * A2 * Gamma2 * omegai/((M2**2 + Gamma2**2 - omegai**2)**2 + 4 * Gamma2**2 * omegai**2)\n",
    "\n",
    "if index%2==0:\n",
    "    # baseline = eta(omegai,M,Gamma)*( 1 - eta(omegai,M + Gamma,Gamma))*rhores(omegai,M,Gamma) + eta(omegai,M + Gamma,Gamma)*rhoconst(omegai,M2) # thermal spectra\n",
    "    baseline = 1/Gamma/np.sqrt(2*math.pi) * np.exp(-(omegai - M)**2 / 2/Gamma**2)\n",
    "    if Gamma2:\n",
    "        baseline += 1/Gamma2/np.sqrt(2*math.pi) * np.exp(-(omegai - M2)**2 / 2/Gamma2**2)\n",
    "\n",
    "if index%5==0:\n",
    "    baseline = 1/Gamma/math.pi/(1 + ((omegai - M)/Gamma)**2)\n",
    "\n",
    "plt.plot(omegai,baseline,'r-.')\n",
    "plt.grid(axis='both', alpha=.3)\n",
    "\n",
    "plt.show()\n",
    "\n",
    "Dtau = D(taui,omegai,baseline) #+ torch.randn(taul)*1e-4\n",
    "\n",
    "# target = np.loadtxt('cor_100_0.001.txt')\n",
    "\n",
    "plt.plot(taui,Dtau,'-')\n",
    "plt.grid(axis='both', alpha=.3)\n",
    "plt.show()\n",
    "\n",
    "np.savetxt('correlatorsBW/rho-{}.txt'.format(index), baseline, delimiter=',') \n",
    "np.savetxt('correlatorsBW/Dtau-{}.txt'.format(index), np.transpose([taui,Dtau]), delimiter=',') \n"
   ]
  },
  {
   "cell_type": "markdown",
   "metadata": {},
   "source": [
    "## produce many random specrtra"
   ]
  },
  {
   "cell_type": "code",
   "execution_count": null,
   "metadata": {},
   "outputs": [],
   "source": [
    "# D_data = taui\n",
    "# D_noise = taui\n",
    "for i in range(1,96):\n",
    "    index = 5 + i\n",
    "    A = np.random.rand()*0.9 + 0.1  # 0.1, 1.0\n",
    "    A2 = np.random.rand()*0.9 + 0.1\n",
    "    M = np.random.rand()*2.5 + 0.5  # 0.5, 3.0\n",
    "    deltaM = np.random.rand()*2.5\n",
    "    M2 = M + deltaM # delta M = 0, 2.5\n",
    "    M3 = M2 + deltaM # delta M = 0, 2.5\n",
    "    Gamma = np.random.rand()*0.4 + 0.1 # 0.1, 0.5\n",
    "    Gamma2 = np.random.binomial( n=1, p= 0.4) *0.4 + 0.1 # 0.1, 0.5\n",
    "    Gamma3 = 0\n",
    "\n",
    "    baseline = (4 * A * Gamma * omegai/((M**2 + Gamma**2 - omegai**2)**2 + 4 * Gamma**2 * omegai**2))\n",
    "    if Gamma2:\n",
    "        baseline += 4 * A2 * Gamma2 * omegai/((M2**2 + Gamma2**2 - omegai**2)**2 + 4 * Gamma2**2 * omegai**2)\n",
    "    if Gamma3:\n",
    "        baseline += 4 * A2 * Gamma3 * omegai/((M3**2 + Gamma3**2 - omegai**2)**2 + 4 * Gamma3**2 * omegai**2)\n",
    "\n",
    "    # baseline = 1/(Gamma*math.pi) *(1 + (omegai - M)**2 / Gamma**2)**(-1)\n",
    "    # baseline += 1/(Gamma*math.pi) *(1 + (omegai - M2)**2 / Gamma**2)**(-1)\n",
    "    Dtau = D(taui,omegai,baseline) #+ torch.randn(taul)*1e-4\n",
    "\n",
    "    # plt.plot(taui,Dtau,'-')\n",
    "\n",
    "    # D_data = np.column_stack((D_data,Dtau))\n",
    "    # ln = round(np.log(Dtau.min()))\n",
    "    # noise = np.random.randn(taul) * 10** ln * 50\n",
    "    # D_noise = np.column_stack((D_noise,Dtau + noise))\n",
    "\n",
    "    # np.savetxt('correlatorsBW/rho-{}.txt'.format(index), baseline, delimiter=',') \n",
    "    # np.savetxt('correlatorsBW/Dtau-{}.txt'.format(index), np.transpose([taui.cpu(),Dtau.cpu(), delimiter=',') \n",
    "    \n",
    "    plt.plot(omegai,baseline,'-.')\n",
    "    plt.grid(axis='both', alpha=.3)\n",
    "\n",
    "plt.show()\n",
    "# np.savetxt('Dtau-tr.txt', D_data, delimiter=',') \n",
    "# np.savetxt('Dtau-noise.txt', D_noise, delimiter=',') \n"
   ]
  },
  {
   "cell_type": "code",
   "execution_count": 3,
   "metadata": {},
   "outputs": [],
   "source": [
    "# save same noise\n",
    "noise = np.random.randn(taul)\n",
    "i = 2\n",
    "while i<7 :\n",
    "    order = 10**(-i)\n",
    "    noise1 = noise*order\n",
    "    np.savetxt('correlatorsBW/noise-{}.txt'.format(i), noise1, delimiter=',') \n",
    "    i += 1"
   ]
  },
  {
   "cell_type": "markdown",
   "metadata": {},
   "source": [
    "# add noise"
   ]
  },
  {
   "cell_type": "code",
   "execution_count": 19,
   "metadata": {},
   "outputs": [
    {
     "data": {
      "image/png": "[encoded data removed]",
      "text/plain": [
       "<Figure size 432x288 with 1 Axes>"
      ]
     },
     "metadata": {
      "needs_background": "light"
     },
     "output_type": "display_data"
    }
   ],
   "source": [
    "# \n",
    "np.savetxt('MEM/MEMdata/rho-{}.txt'.format(index), baseline, delimiter=',') \n",
    "\n",
    "Data_tau = taui\n",
    "\n",
    "plt.plot(omegai,baseline,'r-.')\n",
    "plt.grid(axis='both', alpha=.3)\n",
    "plt.xlim([0,10])\n",
    "plt.show()\n",
    "\n",
    "for j in [2,3,4,5,6,10]:\n",
    "    Data = []\n",
    "    Data.append(Data_tau)\n",
    "    epsilon = 10**(-j)\n",
    "    if j == 10:\n",
    "        epsilon = 0\n",
    "    for i in range(20):\n",
    "        Dtau_noise = []\n",
    "        if (i == 0) and (j!=10):\n",
    "            noise = np.loadtxt('correlatorsBW/noise-{}.txt'.format(j), delimiter=',', unpack=True)\n",
    "            target_noise = noise*taui/dtaui * D(taui,omegai,baseline)\n",
    "            Dtau_noise = D(taui,omegai,baseline) + target_noise\n",
    "        else:\n",
    "            Dtau_noise = D(taui,omegai,baseline) + np.random.randn(taul)*epsilon * D(taui,omegai,baseline)* taui/dtaui\n",
    "        Data.append(Dtau_noise.copy())\n",
    "        # plt.plot(taui,Dtau_noise,'-')\n",
    "        # plt.xlim([10,18])\n",
    "        # plt.ylim([-0.01,0])\n",
    "        # plt.grid(axis='both', alpha=.3)\n",
    "\n",
    "    np.savetxt('MEM/MEMdata/Dtau{}-noise{}.txt'.format(index,j), np.transpose(Data), delimiter=',') \n",
    "\n",
    "    # plt.show()\n",
    "\n"
   ]
  },
  {
   "cell_type": "code",
   "execution_count": 5,
   "metadata": {},
   "outputs": [
    {
     "name": "stdout",
     "output_type": "stream",
     "text": [
      "[0. 0. 0. 0. 0. 0. 0. 0. 0. 0. 0. 0. 0. 0. 0. 0. 0. 0. 0. 0. 0. 0. 0. 0.\n",
      " 0.]\n"
     ]
    }
   ],
   "source": [
    "noise = np.loadtxt('correlatorsBW/noise-{}.txt'.format(3), delimiter=',', unpack=True)\n",
    "target_noise = noise*taui/dtaui * D(taui,omegai,baseline)\n",
    "Dtau_noise = D(taui,omegai,baseline) + target_noise\n",
    "\n",
    "noise_mem = np.loadtxt('MEM/MEMdata/Dtau{}-noise{}.txt'.format(3,3),delimiter=',', unpack=True)\n",
    "\n",
    "#check same noise\n",
    "print(Dtau_noise - noise_mem[1,:])"
   ]
  },
  {
   "cell_type": "code",
   "execution_count": null,
   "metadata": {},
   "outputs": [],
   "source": []
  }
 ],
 "metadata": {
  "interpreter": {
   "hash": "1c38c737cd5d74de1ffe6632eeffb687daaf3890899e06a29f39dbdd8ace3838"
  },
  "kernelspec": {
   "display_name": "Python 3.9.2 64-bit ('base': conda)",
   "name": "python3"
  },
  "language_info": {
   "codemirror_mode": {
    "name": "ipython",
    "version": 3
   },
   "file_extension": ".py",
   "mimetype": "text/x-python",
   "name": "python",
   "nbconvert_exporter": "python",
   "pygments_lexer": "ipython3",
   "version": "3.9.2"
  },
  "orig_nbformat": 2
 },
 "nbformat": 4,
 "nbformat_minor": 2
}
